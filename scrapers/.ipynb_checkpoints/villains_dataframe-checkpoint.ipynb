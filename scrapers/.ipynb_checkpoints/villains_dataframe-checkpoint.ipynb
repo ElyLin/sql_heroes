{
 "cells": [
  {
   "cell_type": "markdown",
   "metadata": {},
   "source": [
    "# scrape 100 from comic vine wiki\n"
   ]
  },
  {
   "cell_type": "code",
   "execution_count": 94,
   "metadata": {},
   "outputs": [],
   "source": [
    "import pandas as pd\n",
    "import requests \n",
    "\n",
    "from selenium import webdriver \n",
    "from webdriver_manager.chrome import ChromeDriverManager\n",
    "from selenium.webdriver.common.by import By"
   ]
  },
  {
   "cell_type": "code",
   "execution_count": 95,
   "metadata": {},
   "outputs": [],
   "source": [
    "driver = webdriver.Chrome('/Users/b0ihazard/Desktop/chromedriver')\n",
    "article = \"https://comicvine.gamespot.com/profile/idea/lists/top-100-comic-book-villains-ign/46166/\"\n",
    "go_article = driver.get(article)\n",
    "\n",
    "name_list = []\n",
    "real_names = []\n",
    "aliases_lists = []\n",
    "gender_list = []\n",
    "char_types = []\n",
    "powers_lists = []\n",
    "\n",
    "\n",
    "link_list = []\n",
    "\n",
    "all_lists = name_list, real_names, aliases_lists, gender_list, char_types, powers_lists\n",
    "\n",
    "grab_links = driver.find_elements(By.CSS_SELECTOR, \"h3\")"
   ]
  },
  {
   "cell_type": "code",
   "execution_count": 96,
   "metadata": {},
   "outputs": [
    {
     "name": "stdout",
     "output_type": "stream",
     "text": [
      "110\n"
     ]
    }
   ],
   "source": [
    "print(len(grab_links))"
   ]
  },
  {
   "cell_type": "code",
   "execution_count": 97,
   "metadata": {},
   "outputs": [],
   "source": [
    "for link in grab_links[100::]:\n",
    "    grab_links.pop()"
   ]
  },
  {
   "cell_type": "code",
   "execution_count": 98,
   "metadata": {},
   "outputs": [
    {
     "name": "stdout",
     "output_type": "stream",
     "text": [
      "100\n"
     ]
    }
   ],
   "source": [
    "print(len(grab_links))"
   ]
  },
  {
   "cell_type": "code",
   "execution_count": 99,
   "metadata": {},
   "outputs": [],
   "source": [
    "def super_name(name_list):\n",
    "\n",
    "    try:\n",
    "        super_name = driver.find_element(By.XPATH, ('//*[@id=\"default-content\"]/aside/div[4]/table/tbody/tr[1]/td')).text\n",
    "    except:\n",
    "        super_name = \"N/A\"\n",
    "        \n",
    "    name_list.append(super_name)\n",
    "    print(super_name)"
   ]
  },
  {
   "cell_type": "code",
   "execution_count": 100,
   "metadata": {},
   "outputs": [],
   "source": [
    "def real_name(real_names):\n",
    "\n",
    "    try:\n",
    "        real_name = driver.find_element(By.XPATH, ('//*[@id=\"default-content\"]/aside/div[4]/table/tbody/tr[2]/td')).text\n",
    "    except:\n",
    "        real_name = \"N/A\"\n",
    "        \n",
    "    real_names.append(real_name)"
   ]
  },
  {
   "cell_type": "code",
   "execution_count": 101,
   "metadata": {},
   "outputs": [],
   "source": [
    "def aliases(aliases_lists, char_aliases):\n",
    "    try:\n",
    "        aliases = driver.find_elements(By.XPATH, ('//*[@id=\"default-content\"]/aside/div[4]/table/tbody/tr[3]/td'))\n",
    "        for alias in aliases:\n",
    "                char_aliases.append(alias.text)\n",
    "    except:\n",
    "        aliases = \"N/A\"\n",
    "        \n",
    "    aliases_lists.append(char_aliases)"
   ]
  },
  {
   "cell_type": "code",
   "execution_count": 102,
   "metadata": {},
   "outputs": [],
   "source": [
    "def char_gender(gender_list):\n",
    "\n",
    "    try:\n",
    "        char_gender = driver.find_element(By.XPATH, ('//*[@id=\"default-content\"]/aside/div[4]/table/tbody/tr[6]/td')).text       \n",
    "    except:\n",
    "        char_gender = \"N/A\"   \n",
    "        \n",
    "    gender_list.append(char_gender)"
   ]
  },
  {
   "cell_type": "code",
   "execution_count": 103,
   "metadata": {},
   "outputs": [],
   "source": [
    "def char_type(char_types):\n",
    "\n",
    "    try:\n",
    "        char_type = driver.find_element(By.XPATH, ('//*[@id=\"default-content\"]/aside/div[4]/table/tbody/tr[7]/td')).text   \n",
    "    except:\n",
    "        char_type = \"N/A\"\n",
    "    char_types.append(char_type)"
   ]
  },
  {
   "cell_type": "code",
   "execution_count": 104,
   "metadata": {},
   "outputs": [],
   "source": [
    "def powers(powers_lists, char_powers):\n",
    "    try:        \n",
    "        powers = driver.find_elements(By.XPATH, ('//*[@id=\"default-content\"]/aside/div[4]/table/tbody/tr[12]/td'))\n",
    "        for power in powers:\n",
    "            char_powers.append(power.text)\n",
    "    except:\n",
    "        powers = \"N/A\"\n",
    "    powers_lists.append(char_powers)"
   ]
  },
  {
   "cell_type": "code",
   "execution_count": 105,
   "metadata": {},
   "outputs": [],
   "source": [
    "def get_villains(go_article):\n",
    "    char_aliases = []\n",
    "    char_powers = []\n",
    "    \n",
    "    try:\n",
    "    \n",
    "        for raw_link in grab_links:\n",
    "            link_list.append(raw_link.text)\n",
    "\n",
    "        ## iterating over all the wikis to grab the details\n",
    "        for link in link_list:\n",
    "            char_aliases = []\n",
    "            char_powers = []\n",
    "\n",
    "            driver.execute_script(\"window.open('https://comicvine.gamespot.com/profile/idea/lists/top-100-comic-book-villains-ign/46166/')\")\n",
    "            char_page = driver.find_element(By.PARTIAL_LINK_TEXT, (link))\n",
    "            char_page.click()\n",
    "\n",
    "            super_name(name_list)\n",
    "            real_name(real_names)\n",
    "            aliases(aliases_lists, char_aliases)\n",
    "            char_gender(gender_list)\n",
    "            char_type(char_types)\n",
    "            powers(powers_list, char_powers)\n",
    "\n",
    "            driver.switch_to.window(driver.window_handles[-1])\n",
    "        \n",
    "        return link_list\n",
    "    \n",
    "    except:\n",
    "        print(\"an error occured in your code!\")\n",
    "        \n",
    "    finally:\n",
    "        driver.Quit()"
   ]
  },
  {
   "cell_type": "code",
   "execution_count": 106,
   "metadata": {},
   "outputs": [
    {
     "name": "stdout",
     "output_type": "stream",
     "text": [
      "Magneto\n",
      "Joker\n",
      "Doctor Doom\n",
      "Lex Luthor\n",
      "Galactus\n",
      "Darkseid\n",
      "Ra's al Ghul\n",
      "Loki\n",
      "Phoenix Force\n",
      "Kingpin\n",
      "Catwoman\n",
      "Two-Face\n",
      "Norman Osborn\n",
      "Red Skull\n",
      "Sinestro\n",
      "Black Adam\n",
      "Brainiac\n",
      "Mystique\n",
      "Juggernaut\n",
      "Bullseye\n",
      "Ozymandias\n",
      "Venom\n",
      "Ultron\n",
      "Apocalypse\n",
      "Bizarro\n",
      "N/A\n",
      "Captain Cold\n",
      "Doctor Octopus\n",
      "Mr. Sinister\n",
      "General Zod\n",
      "Eobard Thawne\n",
      "Deathstroke\n",
      "Cyborg Superman\n",
      "Bane\n",
      "Gorilla Grodd\n",
      "Vandal Savage\n",
      "Zoom\n",
      "N/A\n",
      "Shredder\n",
      "Baron Helmut Zemo\n",
      "Mongul\n",
      "Talia al Ghul\n",
      "Deadshot\n",
      "Sabretooth\n",
      "Harley Quinn\n",
      "Doomsday\n",
      "Thanos\n",
      "Mephisto\n",
      "Anti-Monitor\n",
      "N/A\n",
      "Penguin\n",
      "Metallo\n",
      "Kraven the Hunter\n",
      "Abomination\n",
      "Sebastian Shaw\n",
      "Dormammu\n",
      "Hobgoblin (Kingsley)\n",
      "Scarecrow\n",
      "Riddler\n",
      "Amanda Waller\n",
      "Parasite\n",
      "Lizard\n",
      "Leader\n",
      "Poison Ivy\n",
      "Kang\n",
      "Herr Starr\n",
      "Mr. Freeze\n",
      "Lucifer Morningstar\n",
      "Cheetah (Minerva)\n",
      "N/A\n",
      "Thunderbolt Ross\n",
      "Sandman\n",
      "Clayface (Karlo)\n",
      "Saint of Killers\n",
      "Magog\n",
      "Mr. Mxyzptlk\n",
      "Proteus\n",
      "Lady Deathstrike\n",
      "Mirror Master (McCulloch)\n",
      "Prometheus\n",
      "Mandarin\n",
      "Dr. Sivana\n",
      "Grigori Rasputin\n",
      "Arthur Light\n",
      "Mysterio\n",
      "The Governor\n",
      "Electro\n",
      "N/A\n",
      "Shade\n",
      "Carnage\n",
      "N/A\n",
      "Omni-Man\n",
      "Annihilus\n",
      "Omega Red\n",
      "Despero\n",
      "an error occured in your code!\n"
     ]
    },
    {
     "ename": "AttributeError",
     "evalue": "'WebDriver' object has no attribute 'Quit'",
     "output_type": "error",
     "traceback": [
      "\u001b[0;31m---------------------------------------------------------------------------\u001b[0m",
      "\u001b[0;31mAttributeError\u001b[0m                            Traceback (most recent call last)",
      "\u001b[0;32m<ipython-input-106-5c63cc357155>\u001b[0m in \u001b[0;36m<module>\u001b[0;34m\u001b[0m\n\u001b[0;32m----> 1\u001b[0;31m \u001b[0mget_villains\u001b[0m\u001b[0;34m(\u001b[0m\u001b[0mgo_article\u001b[0m\u001b[0;34m)\u001b[0m\u001b[0;34m\u001b[0m\u001b[0;34m\u001b[0m\u001b[0m\n\u001b[0m",
      "\u001b[0;32m<ipython-input-105-a4508e1d28f1>\u001b[0m in \u001b[0;36mget_villains\u001b[0;34m(go_article)\u001b[0m\n\u001b[1;32m     32\u001b[0m \u001b[0;34m\u001b[0m\u001b[0m\n\u001b[1;32m     33\u001b[0m     \u001b[0;32mfinally\u001b[0m\u001b[0;34m:\u001b[0m\u001b[0;34m\u001b[0m\u001b[0;34m\u001b[0m\u001b[0m\n\u001b[0;32m---> 34\u001b[0;31m         \u001b[0mdriver\u001b[0m\u001b[0;34m.\u001b[0m\u001b[0mQuit\u001b[0m\u001b[0;34m(\u001b[0m\u001b[0;34m)\u001b[0m\u001b[0;34m\u001b[0m\u001b[0;34m\u001b[0m\u001b[0m\n\u001b[0m",
      "\u001b[0;31mAttributeError\u001b[0m: 'WebDriver' object has no attribute 'Quit'"
     ]
    }
   ],
   "source": [
    "get_villains(go_article)"
   ]
  },
  {
   "cell_type": "code",
   "execution_count": 113,
   "metadata": {},
   "outputs": [
    {
     "name": "stdout",
     "output_type": "stream",
     "text": [
      "['Magneto', 'Joker', 'Doctor Doom', 'Lex Luthor', 'Galactus', 'Darkseid', \"Ra's al Ghul\", 'Loki', 'Phoenix Force', 'Kingpin', 'Catwoman', 'Two-Face', 'Norman Osborn', 'Red Skull', 'Sinestro', 'Black Adam', 'Brainiac', 'Mystique', 'Juggernaut', 'Bullseye', 'Ozymandias', 'Venom', 'Ultron', 'Apocalypse', 'Bizarro', 'N/A', 'Captain Cold', 'Doctor Octopus', 'Mr. Sinister', 'General Zod', 'Eobard Thawne', 'Deathstroke', 'Cyborg Superman', 'Bane', 'Gorilla Grodd', 'Vandal Savage', 'Zoom', 'N/A', 'Shredder', 'Baron Helmut Zemo', 'Mongul', 'Talia al Ghul', 'Deadshot', 'Sabretooth', 'Harley Quinn', 'Doomsday', 'Thanos', 'Mephisto', 'Anti-Monitor', 'N/A', 'Penguin', 'Metallo', 'Kraven the Hunter', 'Abomination', 'Sebastian Shaw', 'Dormammu', 'Hobgoblin (Kingsley)', 'Scarecrow', 'Riddler', 'Amanda Waller', 'Parasite', 'Lizard', 'Leader', 'Poison Ivy', 'Kang', 'Herr Starr', 'Mr. Freeze', 'Lucifer Morningstar', 'Cheetah (Minerva)', 'N/A', 'Thunderbolt Ross', 'Sandman', 'Clayface (Karlo)', 'Saint of Killers', 'Magog', 'Mr. Mxyzptlk', 'Proteus', 'Lady Deathstrike', 'Mirror Master (McCulloch)', 'Prometheus', 'Mandarin', 'Dr. Sivana', 'Grigori Rasputin', 'Arthur Light', 'Mysterio', 'The Governor', 'Electro', 'N/A', 'Shade', 'Carnage', 'N/A', 'Omni-Man', 'Annihilus', 'Omega Red', 'Despero']\n",
      "['Max Eisenhardt', 'Unknown', 'Victor Von Doom', 'Alexander Joseph Luthor', 'Galan', 'Uxas', \"Ra's al Ghul\", 'Loki Laufeyson', '', 'Wilson Grant Fisk', 'Selina Kyle', 'Harvey Dent', 'Norman Virgil Osborn', 'Johann Schmidt', 'Thaal Sinestro', 'Teth-Adam', 'Vril Dox I', 'Raven Darkholme', 'Cain Marko', 'Lester', 'Adrian Alexander Veidt', 'None', 'Ultron', 'En Sabah Nur', 'El-Kal', 'N/A', 'Leonard Snart', 'Otto Gunther Octavius', 'Nathaniel Essex', 'Dru-Zod', 'Eobard Thawne', 'Slade Joseph Wilson', 'Hank Henshaw', '', 'Grodd', 'Vandar Adg', 'Hunter Zolomon', 'N/A', 'Oroku Saki', 'Helmut J. Zemo', 'Mongul II', 'Talia al Ghul', 'Floyd Lawton', 'Victor Creed', 'Harleen Frances Quinzel', 'Unknown', 'Dione', 'Mephisto', 'Mobius', 'N/A', 'Oswald Chesterfield Cobblepot', 'John Wayne Corben', 'Sergei Kravinoff', 'Emil Blonsky', 'Sebastian Hiram Shaw', '', 'Roderick Kingsley', 'Jonathan Crane', 'Edward Nigma', 'Amanda Blake Waller', 'Rudolph C. Jones', 'Curtis Connors', 'Samuel Sterns', 'Pamela Lillian Isley', 'Nathaniel Richards', '???? Starr', 'Victor Fries', 'Samael', 'Barbara Ann Minerva', 'N/A', 'Thaddeus E. Ross', 'William Baker', 'Basil Karlo', '', 'David Reid', 'Unknown', 'Kevin MacTaggert', 'Yuriko Oyama', 'Evan McCulloch', 'Unknown', 'Khan', 'Thaddeus Bodog Sivana', 'Grigori Yefimovich Rasputin', 'Arthur Light', 'Quentin Beck', 'Brian Blake', 'Maxwell Dillon', 'N/A', 'Richard Swift', 'Carnage', 'N/A', 'Nolan', 'Annihilus', 'Arkady Rossovich', 'Despero']\n",
      "[['Erik Magnus Lehnsherr\\nThe Master of Magnetism\\nMax Eisenhardt\\nPrisoner #214782\\nThe Creator\\nWhite Pilgrim\\nErik the Red\\nMichael Xavier\\nGrey King\\nWhite King\\nThe Devil'], [\"Clown Prince of Crime \\nHarlequin of Hate\\nPublic Enemy #1\\nJack Napier\\nMr. Rekoj\\nNemesis of The Knight\\nThe Bandit\\nMr. Face Paint\\nPatient 0\\nPatient 223\\nRed Hood\\nJoe White\\nJocund Jack of \\nJocund Jack of All Crimes\\nEric Border\\nOberon Sexton\\nRed Hood One\\nThe Clown at Midnight\\nJoseph Kerr\\nThe Pale Man\\nIvar Loxias\\nLiam Distal\\nJerome Valeska\\nJohn Doe\\nArthur Fleck\\nGotham's Nutjob\"], ['Dr. Doom\\nVictor von Doom\\nThe Master\\nThe Baron of Iron\\nInvincible Man\\nThe Apprentice\\nHans\\nLord Doom\\nEmperor Doom\\nDoom 2099\\nSorcerer Supreme\\nVincent Vaughn\\nDoom Rex\\nCount Otto von Doom\\nOtto the Handsome\\nReed Richards\\nNorman McArthur\\nVictor Van Damme\\nRabum Alal\\nThe Black King\\nGreat Destroyer'], ['Alexander Joseph Luthor\\nAlexander Luthor\\nAlexei Luthor\\nAlexis Luthor\\nChrome-Dome\\nMockingbird\\nMr. Clean\\nLex Luthor II\\nThe Metropolis Mogul\\nPresident Luthor\\nSnapdragon\\nIcarus\\nGod of Apokolips\\nSuperman'], ['Galan\\nGalen\\nDevourer of Worlds\\nRavager of Planets\\nAshta\\nGah Lak Tus\\nThe Uncreator\\nThe Anti-God\\nMaker\\nFranklin Richards\\nThe World-Eater\\nBig G\\nSentience Of The Universe\\nRestorer of Worlds\\nThe Planet Eater\\nGalaktus\\nOld Hunger\\nLifebringer'], ['Dark Side\\nBoss Dark Side\\nFather\\nUxas, Son Of Heggra\\nThe God Of Apokolips\\nDark Bringer\\nThe Dark Lord\\nLord Of The Omega Effect\\nMaster of Darkness\\nMr. Doug Side\\nNight-Lord\\nKing of Apokolips\\nAlex Luthor\\nBaby Darkseid'], [\"The Demon's Head\\nMessiah of the Crimson Sun\\nThe Eternal One\\nHead of the Demon\\nLeland McCauley\\nTerry Gene Kase\\nHenri Ducard\"], ['Lester\\nGem-keeper\\nTyfon\\nGunnar Golmen\\nSon of Secrets\\nMaker of Mischief\\nThe Sly One\\nLie-Smith \\nGod of Mischief\\nSerrure\\nTrickster\\nIkol\\nWalter Lawson\\nLoren Olsen\\nTyphon\\nFather Williams\\nWillie\\nTso \\nScarlet Witch\\nPrince of Lies'], ['Chaos-Bringer\\nGuardian of Creation\\nJean Grey\\nDark Phoenix\\nPhalkon'], ['Dirigible\\nHarold Howard\\nKingpin of Crime\\nThe Boss\\nThe Brainwasher\\nWilson Grant Fisk\\nThe King of Crime\\nMayor Fisk'], ['Selina Kyle\\nSelina Falcone\\nSelina Wayne\\nBatwoman\\nBelinda\\nElva Barr\\nIrena Dubrovna\\nKitty Grimalkin\\nMadame Moderne\\nMarguerite Tone\\nRoxy Rocket\\nSadie Kelowski\\nThe Cat\\nThe Cat Burglar \\nCatbird'], [\"Harvey Dent\\nMulti-Face\\nTwoheaded\\nApollo\\nJanus\\nGotham's Protector\\nHarv\\nThe Holiday\\nHandsome Harvey\\nBig Bad Harv\\nGotham's White Knight\\nHarvey Kent\\nBinary Star\\nThe Double Man\\nMr. Apollo\\nMr. Dionysus\\nDouble Dog\\nMister Dent\\nDuke of Duality\\nOne-Face\"], ['Green Goblin\\nIron Patriot\\nScrier\\nSuper-Adaptoid\\nGoblin King\\nMason Banks\\nGrüner Kobold\\nCletus Kasady\\nRed Goblin\\nEmerald Elf'], ['Johann Schmidt\\nJohn Smith\\nBettman P. Lyles\\nCyrus Fenton\\nDell Rusk\\nDer Rote Schädel\\nJohn Maxon\\nJoseph McRooter\\nMr. Smith\\nTeacher\\nThe Agent Of A Thousand Faces\\nCaptain America\\nThe Man\\nTod March\\nHerr Schmidt\\nRed Onslaught\\nBlack Skull'], ['Thaal Sinestro\\nThe Renegade Green Lantern\\nThe Fallen Lantern\\nSinestro of Korugar\\nSaviour of Korugar\\nGreen Lantern 1417\\nYellow Lantern\\nWhite Lantern\\nLantern Toris\\nThe Bookkeeper\\nParallax'], ['Teth-Adam\\nThe Mighty Adam\\nTheo Adam\\nKhem-Adam\\nMighty Adam\\nShazam \\nHassan Bari'], ['Milton Fine\\nThe Brain InterActive Construct\\nThe Ender of Planets\\nThe Super Computer of Knowledge\\nThe Terror of Kandor\\nVril Dox\\nThe Colony of the Collector of Worlds\\nC.O.M.P.U.T.O.\\nPneumenoid\\nMind\\nInternet\\nMilton Moses Fine'], ['Raven Darkholme\\nFoxx\\nHelmut Stein\\nB. Byron Biggs\\nSurge\\nHolt Adler\\nRonnie Lake \\nRaven Wagner\\nMr. Raven\\nLeni Zauber\\nRandy Green\\nAmichai Benvenisti\\nMallory Brickman'], ['Cain Marko\\nThe Unstoppable Juggernaut\\nKuurth: Breaker of Stone\\nExemplar of Physical Power\\nCaptain Universe\\nThe Living Juggernaut'], [\"Lester Poindexter\\nLeonard\\nBenjamin Pondexter\\nDaredevil\\nHawkeye\\nBull's Eye\\nShelton Pendergrass\\nThe Man Without Mercy\\nThe Man Who Never Misses\\nLester Jangles\\nLeonard McClain\"], [\"Adrian Veidt\\nOzzy\\nVeidt\\nThe World's Smartest Man\"], [\"Alien costume\\nSpider-Man's Black costume\\nSpider-Man\\nSinister Spider-Man\\nLethal Protector\\nMac Gargan\\nEddie Brock\\nAngelo Fortunato\\nAnne Weying\\nPatricia Robertson\\nNormie Osborn\\nMay Parker\\nPeter Parker\\nMay Parker\\nKron Stone\\nCarol Danvers\\nFlash Thompson \\nVenom Symbiote\\nParasite\"], ['Crimson Cowl\\nThe Space Knight\\nThe Vision\\nTurino XL\\nUltron-5\\nUltron-6\\nUltron-7\\nUltron-8\\nUltron-11\\nUltron-12\\nUltron-Mark 12\\nUltron-13\\nUltron-14\\nUltron-15\\nUltron Pym\\nHank Pym'], ['The Eternal One\\nThe Immortal \\nThe First One\\nHigh Lord\\nSet\\nKali-Ma\\nBeast Child\\nChild of Destiny\\nForever Walker\\nHe Who Never Dies\\nHuitzilopochtli\\nMaster of Lies\\nSon of the Morning Fire\\nThe Bringer of Chaos\\nEn Sabah Nur'], ['Bizarro #1\\nBizarro-Superman\\nThe Thing of Steel\\nThe Imperfect Superman\\nB-0\\nB-Zero'], [], ['Citizen Cold\\nKid Kold\\nLen Snart\\nLeonard Snart\\nLeonards Wynters\\nThe Man Who Mastered Absolute Zero'], ['Otto Octavius\\nDoc Ock\\nDoctor Octavius\\nDr. Octopus\\nSpider-Man\\nSuperior Spider-Man\\nThe Master Planner\\nThe Master Programmer\\nPeter Parker\\nOtto Gunther Octavius\\nSuperior Octopus'], ['Mister Sinister\\nDr. Nathaniel Essex\\nNathan Milbury\\nMichael Milbury\\nArnold Bocklin\\nDr. Robert Windsor\\nSteven Shaffran\\nEdmond Atkinson\\nNosferatu\\nApocalypse\\nPale Man\\nRobert Windsor\\nAdministrator Pearson'], ['Dru-Zod\\nZod\\nAvruskin \\nSuperman\\nIm-Zod\\nGeneral'], ['Reverse Flash\\nAdrian Zoom \\nRenegade Flash\\nHarrison Wells\\nProfessor Zoom'], ['Deathstroke the Terminator\\nSlade Wilson\\nThe Balkan\\nRaptor\\nTwilight\\nMr. Spears'], ['The Inventor\\nThe Cyborg\\nHighmaster\\nGrandmaster\\nAlpha-Prime\\nSuperman\\nCommander Hank Henshaw'], ['The Man Who Broke the Bat\\nAntonio Diego\\nThe Masked Man\\nUbu\\nBatman'], ['Drew Drowden\\nGeneral Grodd\\nGrodd of War\\nWilliam Dawson\\nSuper-Gorilla'], [\"Blackbeard\\nCain\\nDr. Curtis Knox\\nGenghis Khan\\nGeneral Savage\\nJack the Ripper\\nJon Savage\\nJulius Caesar\\nMarshal Sauvage\\nMr. DeWitt\\nKhafre\\nKr'ull\\nLicinius\\nDeath Masque\\nThe Greatest of the Caesars\\nThe Most Brutal of the Khans\\nVandar the Killer\\nVarney Sack\\nHead Chief\"], ['Hunter Zolomon\\nReverse Flash\\nZoom\\nJudge\\nFlash'], [], [\"Oroku Saki\\nCh'rell\\nShred Head\\nSuper Shredder\\nUtrom Shredder\\nCyber Shredder\\nShredhead\\nMetal Mouth\\nBucket Head\\nTin Teeth\\nBucket Breath\\nMetal Head\\nTengu Shredder\\nMaster Shredder\\nTakeshi Tatsuo\"], ['Phoenix\\nBaron Zemo\\nCitizen V\\nJohn Watkins III\\nIron Cross'], ['Mongul II\\nMongul of Debstam IV\\nMongul the Lesser\\nMongul Jr\\nLord of War World'], [\"Talia Head\\nDaughter of the Demon\\nTalia Demon\\nThe Demon's Head\\nLeviathan\\nMiranda Tate\\nKali\\nTiamat\\nMedusa\\nWire Mommy\\nRed Queen\\nMother of Skeletons\"], [\"Floyd Lawton\\nThe World's Finest Assassin\\nThe Man Who Never Misses\\nThe Greatest Sniper on Earth\"], ['Victor Creed\\nMr. Creed\\nSlasher\\nDer Schlächter\\nButcher\\nSilver Sabretooth\\nEl Tigre\\nWolverine\\nLogan Creed\\nWeapon S'], ['Dr. Holly Chance\\nDr. Jessica Seaborn\\nLee Harkwin\\nHolly Quinn\\nHarleen Frances Quinzel\\nHarriet Shankar\\nGG Harlin\\nKevlar Vest Girl'], ['Armagedon Creature\\nArmageddon Agent\\nThe Ultimate Lifeform\\nThe Ultimate Survivor\\nDeath\\nA Walking War Machine\\nKiller of Superman\\nDavis Bloome\\nLiving Doom'], ['The Mad Titan\\nAvatar of Death\\nMasterlord\\nThe Overmaster\\nThe God of Death\\nThe All-Father\\nPrune Chin\\nPurple Puss\\nUltimate Nihilist\\nDione'], ['Mephistopheles\\nThe Devil\\nThe Lord Of Lies\\nAvarrish\\nMr. Church\\nLord of Evil\\nPrince of Devils\\nSatan\\nBeelzebub\\nThe Friend\\nLucifer\\nMaya\\nPrince of Lies\\nRuler of Hell\\nLord of the Damned\\nThe First Deviant \\nThe Fiend\\nManFiszo\\nMiniphisto\\nLord Mephisto\\nThe Tracker\\nBultar'], ['Monty\\nMobius\\nAnti-God\\nThe Destroyer'], [], ['Mr. Boniface\\nOzzie\\nAbner\\nSardine Breath\\nMr. Cobblepot\\nOswald Cobblepot\\nPengy\\nThe Man of a Thousand Umbrellas\\nGentleman of Crime\\nBird of Prey\\nGobble-Gobble\\nPengers\\nThe Vulture\\nFoul-Feathered Fowl\\nThe Grotesque Bird of Ill-Omen\\nThe Blackbird of Banditry\\nThe Buccaneer of Birds\\nThe Pedantic Patriarch of Predators\\nMayor Cobblepot\\nOswald Chesterfield Cobblepot'], ['John Corben\\nRoger Corben\\nTransforming Terror\\nMetal-Zero\\nMetall-0'], ['Spider-Man\\nThe Spider\\nHuntsman'], ['Emil Blonsky\\nAgent R-7\\nTyrannus\\nThe Ravager of Worlds\\nBlonsky\\nChang Lam'], ['Black King\\nBlack Bishop\\nLord Imperial'], ['Black Baron \\nLord of the Dark Dimension\\nThe Dread One\\nFlyx\\nEater of Souls\\nEternity\\nFatine\\nThe Great Enigma\\nLord of Darkness\\nThe Dread Dormammu'], ['Roderick Kingsley\\nHobgoblin\\nDevil-Spider'], ['Dr. Jonathan Crane\\nMaster of Fear\\nThe Sinister Scarecrow\\nScarebeast\\nIchabod Crane\\nSchrocken\\nDr. Gruidae'], ['Edward Nigma\\nThe Prince of Puzzles\\nQuizmaster\\nE. Nigma\\nEdward Nashton\\nArthur Wynne\\nThe Prince of Puzzlers\\nEdward E. Nygma\\nMr. E.Nigma\\nThe Crown Prince of Conundrums\\nWizard of Quiz\\nThe Puzzle King\\nConundrum Champion\\nMockingbird'], ['Doctor Waller\\nMama Waller\\nMockingbird\\nMs. Waller \\nWhite Queen\\nThe Wall'], ['Rudy Jones\\nMaxwell Jensen\\nRaymond Jensen\\nThe Parasite\\nRudolph C. Jones'], ['Curt Connors\\nDr. Connors \\nThe Lizard\\nIguana'], ['Cucumber Head\\nLeadster\\nRed Leader\\nSam Sterns\\nSamuel Sterns\\nReader\\nThinker'], ['Dr. Pamela Isley\\nDr. Paula Irving\\nRed\\nGreen Piece\\nMay Queen\\nPammie\\nRedhead\\nPenelope Ivy\\nLilly\\nLillain Rose\\nIvy Pepper\\nPamela Lillian Isley'], ['Nathaniel Richards\\nKang The Conqueror\\nKang The Supreme\\nRama-Tut\\nScarlet Centurion\\nImmortus\\nIron Lad\\nVictor Timely\\nKang Prime'], ['Herr Starr \\nAllfather Starr\\nSacred Executioner Starr'], ['Freeze\\nMr. Zero\\nMister Freeze\\nVictor Fries\\nDr. Fries'], [\"Samael\\nLightbringer\\nThe Mocker\\nPrince of Darkness\\nLord of Hell\\nAgent of Heaven\\nSunlighter\\nDread Lord\\nMister Lux\\nPrince of the East\\nAtse'Hashke\\nShepherd of Suns\\nGreat Prince\\nThe Adversary\\nThe Devil\\nSatan\"], ['Barbara Ann Minerva\\nBride of Urzkartaga\\nPriscilla Rich\\nDeborah Domaine\\nSabrina Ballesteros'], [], ['Thaddeus E. Ross\\nThad Ross\\nGeneral Ross\\nHulk\\nNew Hulk\\nRed Hulk\\nRulk\\nWar\\nWar Machine\\nThing'], ['William Baker\\nFlint Marko\\nMr. Sandman\\nSylvester Mann\\nQuarryman\\nSandmanatee\\nSandstorm'], ['Basil Karlo'], ['Angel of Death'], ['Lance\\nLance Corporal David Reid\\nThe New Man of Tomorrow\\nWonderstar'], ['Mxy\\nMixed Pickles\\nImp\\nMister Mxyzptlk\\nSuper-Mite\\nLoki\\nKltpzyxm\\nGreg \\nClark Kent\\nRuppletat\\nMr. Mxyztplk\\nMister Mxyztplk'], ['Kevin MacTaggert\\nAngus MacWhirter\\nCalvin Rankin\\nChangeling\\nGilbert Benson\\nHulk\\nJennie Banks\\nJoe MacTaggert\\nJohn Eisenhart\\nJohn Tensen\\nJustice\\nKevin Sidney\\nMutant X\\nMimic\\nMorph\\nNet Prophet'], ['Yuriko Oyama'], ['MirrorMaster\\nEvan McCulloch'], ['Retro\\nThe Darker Knight\\nAnti-Batman\\nChad Graham\\nShazam\\nMatt Dell\\nAdrian Chase'], ['Gene Khan\\nZhang Tong\\nTem Borjigin\\nChu\\nXu Wenwu\\nThe Warrior King\\nMaster Khan\\nThe Most Dangerous Man on Earth'], [\"Thaddeus Bodog Sivana\\nDoctor Sivana\\nDr. Sivana\\nSivana\\nThe World's Wickedest Scientist\"], ['Grigori Efimovich Rasputin\\nThe Master\\nMad Monk\\nGrishka'], ['Arthur Light\\nDoctor Light\\nDr. Light\\nDr Light'], ['Daniel Berkhart\\nDr. Ludwig Rinehart\\nMysterium \\nNicholas Macabes\\nGerdes \\nFish Bowl\\nQuentin Beck'], ['Philip Blake'], ['Max Dillon\\nMaster of Electricity\\nHuman Torch\\nJolt'], [], ['Richard Swift \\nJames Black\\nLouie Fox\\nMr. Black \\n\"Dicky\"\\nThe Shade \\nThe Duke of Darkness\\nDickie Swift\\nThe Dark Colossus'], ['Cletus Kasady\\nTanis Nieves\\nBen Reilly\\nNorrin Radd\\nPeter Parker\\nJohn Jameson\\nSpider-Man\\nSpider-Carnage\\nThe Spider\\nPrick!\\nInmate 24739\\nGwen Stacy'], [], ['Nolan Grayson'], ['Nihil\\nAhmyor\\nAnnihil Us\\nLord of the Negative Zone\\nThe Living Death That Walks'], ['Arkady Rossovich\\nVasyliev Arkady\\nArkady Gregorivich\\nPresident of the Doctor Octopus Fan Club'], ['Despero the Reborn\\nDestroyer of Worlds']]\n",
      "['Male', 'Male', 'Male', 'Male', 'Male', 'Male', 'Male', 'Male', 'Other', 'Male', 'Female', 'Male', 'Male', 'Male', 'Male', 'Male', 'Other', 'Female', 'Male', 'Male', 'Male', 'Male', 'Male', 'Male', 'Male', 'N/A', 'Male', 'Male', 'Male', 'Male', 'Male', 'Male', 'Male', 'Male', 'Male', 'Male', 'Male', 'N/A', 'Male', 'Male', 'Male', 'Female', 'Male', 'Male', 'Female', 'Male', 'Male', 'Male', 'Male', 'N/A', 'Male', 'Male', 'Male', 'Male', 'Male', 'Male', 'Male', 'Male', 'Male', 'Female', 'Male', 'Male', 'Male', 'Female', 'Male', 'Male', 'Male', 'Male', 'Female', 'N/A', 'Male', 'Male', 'Male', 'Male', 'Male', 'Male', 'Male', 'Female', 'Male', 'Male', 'Male', 'Male', 'Male', 'Male', 'Male', 'Male', 'Male', 'N/A', 'Male', 'Male', 'N/A', 'Male', 'Male', 'Male', 'Male']\n",
      "['Mutant', 'Other', 'Human', 'Human', 'God/Eternal', 'God/Eternal', 'Human', 'God/Eternal', 'God/Eternal', 'Human', 'Human', 'Human', 'Human', 'Human', 'Alien', 'God/Eternal', 'God/Eternal', 'Mutant', 'Human', 'Human', 'Human', 'Alien', 'Robot', 'Mutant', 'Other', 'N/A', 'Human', 'Human', 'Mutant', 'Alien', 'Human', 'Human', 'God/Eternal', 'God/Eternal', 'Animal', 'Human', 'Human', 'N/A', 'Other', 'Human', 'Alien', 'Human', 'Human', 'God/Eternal', 'Human', 'Alien', 'God/Eternal', 'God/Eternal', 'God/Eternal', 'N/A', 'Human', 'Cyborg', 'Human', 'Radiation', 'Mutant', 'God/Eternal', 'Human', 'Human', 'Human', 'Human', 'Radiation', 'Human', 'Radiation', 'Other', 'Human', 'Human', 'Mutant', 'God/Eternal', 'Human', 'N/A', 'Radiation', 'Radiation', 'Mutant', 'God/Eternal', 'Human', 'God/Eternal', 'Mutant', 'Cyborg', 'Human', 'Human', 'Human', 'Human', 'Human', 'Human', 'Human', 'Human', 'Human', 'N/A', 'Human', 'God/Eternal', 'N/A', 'Alien', 'Alien', 'Mutant', 'Alien']\n",
      "[]\n"
     ]
    }
   ],
   "source": [
    "for x in all_lists:\n",
    "    print (x)"
   ]
  },
  {
   "cell_type": "code",
   "execution_count": 114,
   "metadata": {},
   "outputs": [
    {
     "name": "stdout",
     "output_type": "stream",
     "text": [
      "95\n",
      "95\n",
      "95\n",
      "95\n",
      "95\n",
      "0\n"
     ]
    }
   ],
   "source": [
    "for x in all_lists:\n",
    "    print(len(x))"
   ]
  },
  {
   "cell_type": "markdown",
   "metadata": {},
   "source": [
    "# making the dataframe"
   ]
  },
  {
   "cell_type": "code",
   "execution_count": 115,
   "metadata": {},
   "outputs": [],
   "source": [
    "villains = pd.DataFrame()"
   ]
  },
  {
   "cell_type": "code",
   "execution_count": 116,
   "metadata": {},
   "outputs": [
    {
     "ename": "ValueError",
     "evalue": "Length of values (190) does not match length of index (95)",
     "output_type": "error",
     "traceback": [
      "\u001b[0;31m---------------------------------------------------------------------------\u001b[0m",
      "\u001b[0;31mValueError\u001b[0m                                Traceback (most recent call last)",
      "\u001b[0;32m<ipython-input-116-69a741831ca3>\u001b[0m in \u001b[0;36m<module>\u001b[0;34m\u001b[0m\n\u001b[1;32m      4\u001b[0m \u001b[0mvillains\u001b[0m\u001b[0;34m[\u001b[0m\u001b[0;34m\"gender\"\u001b[0m\u001b[0;34m]\u001b[0m \u001b[0;34m=\u001b[0m \u001b[0mgender_list\u001b[0m\u001b[0;34m\u001b[0m\u001b[0;34m\u001b[0m\u001b[0m\n\u001b[1;32m      5\u001b[0m \u001b[0mvillains\u001b[0m\u001b[0;34m[\u001b[0m\u001b[0;34m\"charecter type\"\u001b[0m\u001b[0;34m]\u001b[0m\u001b[0;34m=\u001b[0m \u001b[0mchar_types\u001b[0m\u001b[0;34m\u001b[0m\u001b[0;34m\u001b[0m\u001b[0m\n\u001b[0;32m----> 6\u001b[0;31m \u001b[0mvillains\u001b[0m\u001b[0;34m[\u001b[0m\u001b[0;34m\"powers\"\u001b[0m\u001b[0;34m]\u001b[0m \u001b[0;34m=\u001b[0m \u001b[0mpowers_list\u001b[0m\u001b[0;34m\u001b[0m\u001b[0;34m\u001b[0m\u001b[0m\n\u001b[0m",
      "\u001b[0;32m~/opt/anaconda3/envs/learn-env/lib/python3.8/site-packages/pandas/core/frame.py\u001b[0m in \u001b[0;36m__setitem__\u001b[0;34m(self, key, value)\u001b[0m\n\u001b[1;32m   3038\u001b[0m         \u001b[0;32melse\u001b[0m\u001b[0;34m:\u001b[0m\u001b[0;34m\u001b[0m\u001b[0;34m\u001b[0m\u001b[0m\n\u001b[1;32m   3039\u001b[0m             \u001b[0;31m# set column\u001b[0m\u001b[0;34m\u001b[0m\u001b[0;34m\u001b[0m\u001b[0;34m\u001b[0m\u001b[0m\n\u001b[0;32m-> 3040\u001b[0;31m             \u001b[0mself\u001b[0m\u001b[0;34m.\u001b[0m\u001b[0m_set_item\u001b[0m\u001b[0;34m(\u001b[0m\u001b[0mkey\u001b[0m\u001b[0;34m,\u001b[0m \u001b[0mvalue\u001b[0m\u001b[0;34m)\u001b[0m\u001b[0;34m\u001b[0m\u001b[0;34m\u001b[0m\u001b[0m\n\u001b[0m\u001b[1;32m   3041\u001b[0m \u001b[0;34m\u001b[0m\u001b[0m\n\u001b[1;32m   3042\u001b[0m     \u001b[0;32mdef\u001b[0m \u001b[0m_setitem_slice\u001b[0m\u001b[0;34m(\u001b[0m\u001b[0mself\u001b[0m\u001b[0;34m,\u001b[0m \u001b[0mkey\u001b[0m\u001b[0;34m:\u001b[0m \u001b[0mslice\u001b[0m\u001b[0;34m,\u001b[0m \u001b[0mvalue\u001b[0m\u001b[0;34m)\u001b[0m\u001b[0;34m:\u001b[0m\u001b[0;34m\u001b[0m\u001b[0;34m\u001b[0m\u001b[0m\n",
      "\u001b[0;32m~/opt/anaconda3/envs/learn-env/lib/python3.8/site-packages/pandas/core/frame.py\u001b[0m in \u001b[0;36m_set_item\u001b[0;34m(self, key, value)\u001b[0m\n\u001b[1;32m   3114\u001b[0m         \"\"\"\n\u001b[1;32m   3115\u001b[0m         \u001b[0mself\u001b[0m\u001b[0;34m.\u001b[0m\u001b[0m_ensure_valid_index\u001b[0m\u001b[0;34m(\u001b[0m\u001b[0mvalue\u001b[0m\u001b[0;34m)\u001b[0m\u001b[0;34m\u001b[0m\u001b[0;34m\u001b[0m\u001b[0m\n\u001b[0;32m-> 3116\u001b[0;31m         \u001b[0mvalue\u001b[0m \u001b[0;34m=\u001b[0m \u001b[0mself\u001b[0m\u001b[0;34m.\u001b[0m\u001b[0m_sanitize_column\u001b[0m\u001b[0;34m(\u001b[0m\u001b[0mkey\u001b[0m\u001b[0;34m,\u001b[0m \u001b[0mvalue\u001b[0m\u001b[0;34m)\u001b[0m\u001b[0;34m\u001b[0m\u001b[0;34m\u001b[0m\u001b[0m\n\u001b[0m\u001b[1;32m   3117\u001b[0m         \u001b[0mNDFrame\u001b[0m\u001b[0;34m.\u001b[0m\u001b[0m_set_item\u001b[0m\u001b[0;34m(\u001b[0m\u001b[0mself\u001b[0m\u001b[0;34m,\u001b[0m \u001b[0mkey\u001b[0m\u001b[0;34m,\u001b[0m \u001b[0mvalue\u001b[0m\u001b[0;34m)\u001b[0m\u001b[0;34m\u001b[0m\u001b[0;34m\u001b[0m\u001b[0m\n\u001b[1;32m   3118\u001b[0m \u001b[0;34m\u001b[0m\u001b[0m\n",
      "\u001b[0;32m~/opt/anaconda3/envs/learn-env/lib/python3.8/site-packages/pandas/core/frame.py\u001b[0m in \u001b[0;36m_sanitize_column\u001b[0;34m(self, key, value, broadcast)\u001b[0m\n\u001b[1;32m   3762\u001b[0m \u001b[0;34m\u001b[0m\u001b[0m\n\u001b[1;32m   3763\u001b[0m             \u001b[0;31m# turn me into an ndarray\u001b[0m\u001b[0;34m\u001b[0m\u001b[0;34m\u001b[0m\u001b[0;34m\u001b[0m\u001b[0m\n\u001b[0;32m-> 3764\u001b[0;31m             \u001b[0mvalue\u001b[0m \u001b[0;34m=\u001b[0m \u001b[0msanitize_index\u001b[0m\u001b[0;34m(\u001b[0m\u001b[0mvalue\u001b[0m\u001b[0;34m,\u001b[0m \u001b[0mself\u001b[0m\u001b[0;34m.\u001b[0m\u001b[0mindex\u001b[0m\u001b[0;34m)\u001b[0m\u001b[0;34m\u001b[0m\u001b[0;34m\u001b[0m\u001b[0m\n\u001b[0m\u001b[1;32m   3765\u001b[0m             \u001b[0;32mif\u001b[0m \u001b[0;32mnot\u001b[0m \u001b[0misinstance\u001b[0m\u001b[0;34m(\u001b[0m\u001b[0mvalue\u001b[0m\u001b[0;34m,\u001b[0m \u001b[0;34m(\u001b[0m\u001b[0mnp\u001b[0m\u001b[0;34m.\u001b[0m\u001b[0mndarray\u001b[0m\u001b[0;34m,\u001b[0m \u001b[0mIndex\u001b[0m\u001b[0;34m)\u001b[0m\u001b[0;34m)\u001b[0m\u001b[0;34m:\u001b[0m\u001b[0;34m\u001b[0m\u001b[0;34m\u001b[0m\u001b[0m\n\u001b[1;32m   3766\u001b[0m                 \u001b[0;32mif\u001b[0m \u001b[0misinstance\u001b[0m\u001b[0;34m(\u001b[0m\u001b[0mvalue\u001b[0m\u001b[0;34m,\u001b[0m \u001b[0mlist\u001b[0m\u001b[0;34m)\u001b[0m \u001b[0;32mand\u001b[0m \u001b[0mlen\u001b[0m\u001b[0;34m(\u001b[0m\u001b[0mvalue\u001b[0m\u001b[0;34m)\u001b[0m \u001b[0;34m>\u001b[0m \u001b[0;36m0\u001b[0m\u001b[0;34m:\u001b[0m\u001b[0;34m\u001b[0m\u001b[0;34m\u001b[0m\u001b[0m\n",
      "\u001b[0;32m~/opt/anaconda3/envs/learn-env/lib/python3.8/site-packages/pandas/core/internals/construction.py\u001b[0m in \u001b[0;36msanitize_index\u001b[0;34m(data, index)\u001b[0m\n\u001b[1;32m    745\u001b[0m     \"\"\"\n\u001b[1;32m    746\u001b[0m     \u001b[0;32mif\u001b[0m \u001b[0mlen\u001b[0m\u001b[0;34m(\u001b[0m\u001b[0mdata\u001b[0m\u001b[0;34m)\u001b[0m \u001b[0;34m!=\u001b[0m \u001b[0mlen\u001b[0m\u001b[0;34m(\u001b[0m\u001b[0mindex\u001b[0m\u001b[0;34m)\u001b[0m\u001b[0;34m:\u001b[0m\u001b[0;34m\u001b[0m\u001b[0;34m\u001b[0m\u001b[0m\n\u001b[0;32m--> 747\u001b[0;31m         raise ValueError(\n\u001b[0m\u001b[1;32m    748\u001b[0m             \u001b[0;34m\"Length of values \"\u001b[0m\u001b[0;34m\u001b[0m\u001b[0;34m\u001b[0m\u001b[0m\n\u001b[1;32m    749\u001b[0m             \u001b[0;34mf\"({len(data)}) \"\u001b[0m\u001b[0;34m\u001b[0m\u001b[0;34m\u001b[0m\u001b[0m\n",
      "\u001b[0;31mValueError\u001b[0m: Length of values (190) does not match length of index (95)"
     ]
    }
   ],
   "source": [
    "villains[\"name\"] = name_list\n",
    "villains[\"real names\"] = real_names\n",
    "villains[\"aliases\"] = aliases_lists\n",
    "villains[\"gender\"] = gender_list\n",
    "villains[\"charecter type\"] = char_types\n",
    "villains[\"powers\"] = powers_list"
   ]
  },
  {
   "cell_type": "code",
   "execution_count": null,
   "metadata": {},
   "outputs": [],
   "source": [
    "villains.shape"
   ]
  },
  {
   "cell_type": "code",
   "execution_count": null,
   "metadata": {},
   "outputs": [],
   "source": [
    "villains.head()"
   ]
  },
  {
   "cell_type": "markdown",
   "metadata": {},
   "source": [
    "# Cleaning the Data"
   ]
  },
  {
   "cell_type": "code",
   "execution_count": null,
   "metadata": {},
   "outputs": [],
   "source": [
    "villains.info()"
   ]
  },
  {
   "cell_type": "code",
   "execution_count": null,
   "metadata": {},
   "outputs": [],
   "source": [
    "villains['aliases'] = villains['aliases'].astype(str)\n",
    "villains['powers'] = villains['powers'].astype(str)"
   ]
  },
  {
   "cell_type": "code",
   "execution_count": null,
   "metadata": {},
   "outputs": [],
   "source": [
    "villains.info()"
   ]
  },
  {
   "cell_type": "code",
   "execution_count": null,
   "metadata": {},
   "outputs": [],
   "source": [
    "def reformat(string):\n",
    "    string = string.replace(\"\\\\n\", \", \").strip(\"[]\\'\")\n",
    "    return string"
   ]
  },
  {
   "cell_type": "code",
   "execution_count": null,
   "metadata": {},
   "outputs": [],
   "source": [
    "villains['aliases'] = villains['aliases'].map(reformat)\n",
    "villains['powers'] = villains['powers'].map(reformat)"
   ]
  },
  {
   "cell_type": "code",
   "execution_count": null,
   "metadata": {},
   "outputs": [],
   "source": [
    "villains.head()"
   ]
  },
  {
   "cell_type": "code",
   "execution_count": null,
   "metadata": {},
   "outputs": [],
   "source": [
    "#villains.to_csv('villains.csv')"
   ]
  }
 ],
 "metadata": {
  "kernelspec": {
   "display_name": "Python 3",
   "language": "python",
   "name": "python3"
  },
  "language_info": {
   "codemirror_mode": {
    "name": "ipython",
    "version": 3
   },
   "file_extension": ".py",
   "mimetype": "text/x-python",
   "name": "python",
   "nbconvert_exporter": "python",
   "pygments_lexer": "ipython3",
   "version": "3.8.5"
  },
  "toc": {
   "base_numbering": 1,
   "nav_menu": {},
   "number_sections": true,
   "sideBar": true,
   "skip_h1_title": false,
   "title_cell": "Table of Contents",
   "title_sidebar": "Contents",
   "toc_cell": false,
   "toc_position": {},
   "toc_section_display": true,
   "toc_window_display": false
  }
 },
 "nbformat": 4,
 "nbformat_minor": 4
}
