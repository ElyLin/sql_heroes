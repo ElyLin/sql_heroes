{
 "cells": [
  {
   "cell_type": "markdown",
   "metadata": {},
   "source": [
    "# Sidekicks"
   ]
  },
  {
   "cell_type": "code",
   "execution_count": 1,
   "metadata": {},
   "outputs": [],
   "source": [
    "import pandas as pd\n",
    "\n",
    "from selenium import webdriver \n",
    "from selenium.webdriver.common.keys import Keys\n",
    "from selenium.webdriver.support.ui import WebDriverWait\n",
    "from selenium.webdriver.support import expected_conditions as EC\n",
    "from selenium.webdriver.common.by import By\n",
    "from time import sleep\n",
    "import requests "
   ]
  },
  {
   "cell_type": "code",
   "execution_count": 2,
   "metadata": {},
   "outputs": [],
   "source": [
    "driver = webdriver.Chrome('/Users/b0ihazard/Desktop/chromedriver')\n",
    "driver.get(\"https://en.wikipedia.org/wiki/List_of_comic_book_sidekicks\")"
   ]
  },
  {
   "cell_type": "code",
   "execution_count": 3,
   "metadata": {},
   "outputs": [],
   "source": [
    "dc_raw_sides = driver.find_elements\\\n",
    "(By.XPATH,'//table[@class=\"wikitable sortable jquery-tablesorter\"][1]/tbody/tr/td[1]')\n",
    "\n",
    "dc_raw_aliases = sides = driver.find_elements\\\n",
    "(By.XPATH,'//table[@class=\"wikitable sortable jquery-tablesorter\"][1]/tbody/tr/td[2]')\n",
    "\n",
    "dc_raw_heroes = driver.find_elements\\\n",
    "(By.XPATH,'//table[@class=\"wikitable sortable jquery-tablesorter\"][1]/tbody/tr/td[3]')"
   ]
  },
  {
   "cell_type": "code",
   "execution_count": 4,
   "metadata": {},
   "outputs": [],
   "source": [
    "marv_raw_sides = driver.find_elements\\\n",
    "(By.XPATH,'//html/body/div[3]/div[3]/div[5]/div[1]/table[2]/tbody/tr/td[1]')\n",
    "\n",
    "marv_raw_aliases = sides = driver.find_elements\\\n",
    "(By.XPATH,'//html/body/div[3]/div[3]/div[5]/div[1]/table[2]/tbody/tr/td[2]')\n",
    "\n",
    "marv_raw_heroes = driver.find_elements\\\n",
    "(By.XPATH,'//html/body/div[3]/div[3]/div[5]/div[1]/table[2]/tbody/tr/td[3]')"
   ]
  },
  {
   "cell_type": "code",
   "execution_count": 5,
   "metadata": {},
   "outputs": [
    {
     "name": "stdout",
     "output_type": "stream",
     "text": [
      "49\n",
      "49\n",
      "49\n",
      "16\n",
      "16\n",
      "16\n"
     ]
    }
   ],
   "source": [
    "print(len(dc_raw_sides))\n",
    "print(len(dc_raw_aliases))\n",
    "print(len(dc_raw_heroes))\n",
    "print(len(marv_raw_sides))\n",
    "print(len(marv_raw_aliases))\n",
    "print(len(marv_raw_heroes))"
   ]
  },
  {
   "cell_type": "code",
   "execution_count": 6,
   "metadata": {},
   "outputs": [],
   "source": [
    "raw_sides = dc_raw_sides + marv_raw_sides\n",
    "raw_aliases = dc_raw_aliases + marv_raw_aliases\n",
    "raw_heroes = dc_raw_heroes + marv_raw_heroes"
   ]
  },
  {
   "cell_type": "code",
   "execution_count": 7,
   "metadata": {},
   "outputs": [
    {
     "name": "stdout",
     "output_type": "stream",
     "text": [
      "65\n",
      "65\n",
      "65\n"
     ]
    }
   ],
   "source": [
    "print(len(raw_sides))\n",
    "print(len(raw_aliases))\n",
    "print(len(raw_heroes))"
   ]
  },
  {
   "cell_type": "code",
   "execution_count": 8,
   "metadata": {},
   "outputs": [],
   "source": [
    "sides = []\n",
    "aliases = []\n",
    "heroes = []\n",
    "\n",
    "for x in raw_sides:\n",
    "    sides.append(x.text)\n",
    "\n",
    "for y in raw_aliases:\n",
    "    aliases.append(y.text)\n",
    "\n",
    "for z in raw_heroes:\n",
    "    heroes.append(z.text)"
   ]
  },
  {
   "cell_type": "code",
   "execution_count": 9,
   "metadata": {},
   "outputs": [],
   "source": [
    "sidekicks = pd.DataFrame()\n",
    "\n",
    "sidekicks[\"Sidekicks\"] = sides\n",
    "sidekicks[\"Aliases\"] = aliases\n",
    "sidekicks[\"Heroes\"] = heroes"
   ]
  },
  {
   "cell_type": "code",
   "execution_count": 10,
   "metadata": {},
   "outputs": [
    {
     "name": "stdout",
     "output_type": "stream",
     "text": [
      "['Aquagirl', 'Aquagirl II', 'Aqualad', 'Aqualad II', 'Bat-Girl', 'Batgirl II', 'Batgirl III', 'Batgirl lV', 'Bluebird', 'Snapper Carr', 'Dan the Dyna-Mite', 'Doiby Dickles', 'Fatman', 'Kid Devil', 'Kid Flash', 'Kid Flash II', 'Kid Flash III', 'Signal', 'Lieutenant Marvels', 'Newsboy Legion', 'Jimmy Olsen', 'Pieface', 'Pinky the Whiz Kid', 'Robin', 'Robin III', 'Robin II', 'Robin III', 'Robin IV', 'Robin V', 'Rocket', 'Pete Ross', 'Sandy the Golden Boy', 'Speedy', 'Speedy II', 'Stripesy', 'Stuff the Chinatown Kid', 'Superboy', 'Superboy II', 'Supergirl (Kara Zor-El)', 'Talon', 'Terra', 'Uncle Marvel', 'Wing', 'Woozy Winks', 'Wonder Girl', 'Wonder Girl II', 'Squire', 'Squire II', 'Squire III', 'Alpha', 'Bob', 'Bucky', 'Demolition Man', 'Dum Dum Dugan', 'Free Spirit', 'Jackdaw', 'Jack Flag', 'Jubilee', 'Rick Jones', 'Foggy Nelson', 'Jim Rhodes', 'Sun Girl', 'Toro', 'Jim Wilson', 'Wong'] ['Tula', 'Lorena Marquez', 'Garth', 'Jackson Hyde', 'Mary Elizabeth \"Bette\" Kane', 'Barbara Gordon', 'Cassandra Cain', 'Stephanie\\nBrown', 'Harper Row', 'Lucas Carr', 'Daniel Dunbar', 'Charles Dickles', 'Bob Daley', 'Edward Alan Bloomberg', 'Wally West', 'Bartholomew \"Bart\" Allen II', 'Wally West II', 'Duke Thomas', 'Lt. Tall Marvel (\"Tall\" Billy Batson)\\nLt. Fat Marvel (\"Fat\" Billy Batson)\\nLt. Hill Marvel (\"Hill\" Billy Batson)', 'Tommy Tompkins\\nBig Words\\nGabby\\nScrapper', 'James Bartholomew Olsen', 'Thomas Kalmaku', '\"Pinky\" Butler', 'Dick Grayson', 'Carrie Kelley', 'Jason Todd', 'Timothy Jackson Wayne (formerly Timothy Drake)', 'Stephanie Brown', 'Damian Wayne', 'Raquel Ervin', 'Peter Joseph Ross', 'Sanderson \"Sandy\" Hawkins', 'Roy Harper', 'Mia Dearden', 'Patrick \"Pat\" Dugan', 'Jimmy Leong', 'Kon-El', 'Jonathan \"Jon\" Kent', 'Kara Danvers', 'Dick Grayson', 'Atlee', 'Dudley H. Dudley', 'Wing How', 'Wolfgang Winks', 'Donna Troy', 'Cassandra Sandsmark', 'Percy Sheldrake', 'Cyril Sheldrake', 'Beryl Hutchinson', 'Andrew \"Andy\" Maguire', 'Bob, Agent of HYDRA', 'James Buchanan Barnes', 'Dennis Dunphy', 'Timothy Aloysius Cadwallander Dugan', 'Cathy Webster', 'N.A. (Extra-dimensional Otherworld Elf)', 'Jack Harrison', 'Jubilation \"Jubilee\" Lee', 'Richard Milhouse Jones', 'Franklin P. Nelson', 'James Rupert Rhodes', 'Mary Mitchell', 'Thomas Raymond', 'N.A.', 'Wong'] ['Aquaman', 'Aquaman', 'Aquaman', 'Aquaman', 'Batwoman', 'Batman', 'Batman', 'Batman', 'Batman', 'Justice League', 'TNT', 'Green Lantern (Alan Scott)', 'Mister America', 'Blue Devil', 'Flash (Barry Allen)', 'Flash (Wally West)', 'Flash (Barry Allen)', 'Batman', 'Captain Marvel (DC)', 'Guardian', 'Superman', 'Green Lantern (Hal Jordan)', 'Mr. Scarlet', 'Batman', 'Batman', 'Batman', 'Batman', 'Batman', 'Batman', 'Icon', 'Superboy', 'Sandman (Wesley Dodds)', 'Green Arrow', 'Green Arrow', 'Star-Spangled Kid', 'Vigilante', 'Superman', 'Superman', 'Superman', 'Owlman', 'Power Girl', 'Mary Marvel', 'Crimson Avenger', 'Plastic Man', 'Wonder Woman', 'Wonder Woman', 'Shining Knight', 'Knight (DC)', 'Knight (DC)', 'Spider-Man', 'Deadpool', 'Captain America', 'Captain America', 'Nick Fury', 'Captain America', 'Captain Britain', 'Captain America', 'Wolverine', 'Hulk', 'Daredevil', 'Iron Man', 'Human Torch (android)', 'Human Torch (android)', 'Hulk', 'Doctor Strange']\n"
     ]
    }
   ],
   "source": [
    "print(sides, aliases, heroes)"
   ]
  },
  {
   "cell_type": "code",
   "execution_count": 11,
   "metadata": {},
   "outputs": [
    {
     "data": {
      "text/html": [
       "<div>\n",
       "<style scoped>\n",
       "    .dataframe tbody tr th:only-of-type {\n",
       "        vertical-align: middle;\n",
       "    }\n",
       "\n",
       "    .dataframe tbody tr th {\n",
       "        vertical-align: top;\n",
       "    }\n",
       "\n",
       "    .dataframe thead th {\n",
       "        text-align: right;\n",
       "    }\n",
       "</style>\n",
       "<table border=\"1\" class=\"dataframe\">\n",
       "  <thead>\n",
       "    <tr style=\"text-align: right;\">\n",
       "      <th></th>\n",
       "      <th>Sidekicks</th>\n",
       "      <th>Aliases</th>\n",
       "      <th>Heroes</th>\n",
       "    </tr>\n",
       "  </thead>\n",
       "  <tbody>\n",
       "    <tr>\n",
       "      <th>0</th>\n",
       "      <td>Aquagirl</td>\n",
       "      <td>Tula</td>\n",
       "      <td>Aquaman</td>\n",
       "    </tr>\n",
       "    <tr>\n",
       "      <th>1</th>\n",
       "      <td>Aquagirl II</td>\n",
       "      <td>Lorena Marquez</td>\n",
       "      <td>Aquaman</td>\n",
       "    </tr>\n",
       "    <tr>\n",
       "      <th>2</th>\n",
       "      <td>Aqualad</td>\n",
       "      <td>Garth</td>\n",
       "      <td>Aquaman</td>\n",
       "    </tr>\n",
       "    <tr>\n",
       "      <th>3</th>\n",
       "      <td>Aqualad II</td>\n",
       "      <td>Jackson Hyde</td>\n",
       "      <td>Aquaman</td>\n",
       "    </tr>\n",
       "    <tr>\n",
       "      <th>4</th>\n",
       "      <td>Bat-Girl</td>\n",
       "      <td>Mary Elizabeth \"Bette\" Kane</td>\n",
       "      <td>Batwoman</td>\n",
       "    </tr>\n",
       "    <tr>\n",
       "      <th>...</th>\n",
       "      <td>...</td>\n",
       "      <td>...</td>\n",
       "      <td>...</td>\n",
       "    </tr>\n",
       "    <tr>\n",
       "      <th>60</th>\n",
       "      <td>Jim Rhodes</td>\n",
       "      <td>James Rupert Rhodes</td>\n",
       "      <td>Iron Man</td>\n",
       "    </tr>\n",
       "    <tr>\n",
       "      <th>61</th>\n",
       "      <td>Sun Girl</td>\n",
       "      <td>Mary Mitchell</td>\n",
       "      <td>Human Torch (android)</td>\n",
       "    </tr>\n",
       "    <tr>\n",
       "      <th>62</th>\n",
       "      <td>Toro</td>\n",
       "      <td>Thomas Raymond</td>\n",
       "      <td>Human Torch (android)</td>\n",
       "    </tr>\n",
       "    <tr>\n",
       "      <th>63</th>\n",
       "      <td>Jim Wilson</td>\n",
       "      <td>N.A.</td>\n",
       "      <td>Hulk</td>\n",
       "    </tr>\n",
       "    <tr>\n",
       "      <th>64</th>\n",
       "      <td>Wong</td>\n",
       "      <td>Wong</td>\n",
       "      <td>Doctor Strange</td>\n",
       "    </tr>\n",
       "  </tbody>\n",
       "</table>\n",
       "<p>65 rows × 3 columns</p>\n",
       "</div>"
      ],
      "text/plain": [
       "      Sidekicks                      Aliases                 Heroes\n",
       "0      Aquagirl                         Tula                Aquaman\n",
       "1   Aquagirl II               Lorena Marquez                Aquaman\n",
       "2       Aqualad                        Garth                Aquaman\n",
       "3    Aqualad II                 Jackson Hyde                Aquaman\n",
       "4      Bat-Girl  Mary Elizabeth \"Bette\" Kane               Batwoman\n",
       "..          ...                          ...                    ...\n",
       "60   Jim Rhodes          James Rupert Rhodes               Iron Man\n",
       "61     Sun Girl                Mary Mitchell  Human Torch (android)\n",
       "62         Toro               Thomas Raymond  Human Torch (android)\n",
       "63   Jim Wilson                         N.A.                   Hulk\n",
       "64         Wong                         Wong         Doctor Strange\n",
       "\n",
       "[65 rows x 3 columns]"
      ]
     },
     "execution_count": 11,
     "metadata": {},
     "output_type": "execute_result"
    }
   ],
   "source": [
    "sidekicks"
   ]
  },
  {
   "cell_type": "code",
   "execution_count": 12,
   "metadata": {},
   "outputs": [],
   "source": [
    "sidekicks.to_csv('sidekicks.csv')"
   ]
  },
  {
   "cell_type": "code",
   "execution_count": null,
   "metadata": {},
   "outputs": [],
   "source": []
  }
 ],
 "metadata": {
  "kernelspec": {
   "display_name": "Python 3",
   "language": "python",
   "name": "python3"
  },
  "language_info": {
   "codemirror_mode": {
    "name": "ipython",
    "version": 3
   },
   "file_extension": ".py",
   "mimetype": "text/x-python",
   "name": "python",
   "nbconvert_exporter": "python",
   "pygments_lexer": "ipython3",
   "version": "3.8.5"
  },
  "toc": {
   "base_numbering": 1,
   "nav_menu": {},
   "number_sections": true,
   "sideBar": true,
   "skip_h1_title": false,
   "title_cell": "Table of Contents",
   "title_sidebar": "Contents",
   "toc_cell": false,
   "toc_position": {},
   "toc_section_display": true,
   "toc_window_display": false
  }
 },
 "nbformat": 4,
 "nbformat_minor": 4
}
